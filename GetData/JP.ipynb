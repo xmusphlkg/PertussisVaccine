{
 "cells": [
  {
   "cell_type": "markdown",
   "metadata": {},
   "source": [
    "## Get data from NID Japan"
   ]
  },
  {
   "cell_type": "code",
   "execution_count": 70,
   "metadata": {},
   "outputs": [],
   "source": [
    "import requests\n",
    "from bs4 import BeautifulSoup\n",
    "import re\n",
    "import os\n",
    "from datetime import datetime\n",
    "\n",
    "def extract_info(text, year):\n",
    "    match = re.search(r'week (\\d+)\\（(\\d+/\\d+)～(\\d+/\\d+)\\）', text)\n",
    "\n",
    "    if match:\n",
    "      start_date = match.group(2)\n",
    "      start_date = datetime.strptime(str(year) + '/' + start_date, \"%Y/%m/%d\")\n",
    "      end_date = match.group(3)\n",
    "      end_date = datetime.strptime(str(year) + '/' + end_date, \"%Y/%m/%d\")\n",
    "      return start_date, end_date\n",
    "    else:\n",
    "        return None, None\n",
    "\n",
    "def extract_title(text):\n",
    "    match = re.search(r'(\\d{4}) week (\\d+)', text)\n",
    "    if match:\n",
    "        year = match.group(1)\n",
    "        week = match.group(2)\n",
    "        return year, week\n",
    "    else:\n",
    "        return None, None\n",
    "\n",
    "def get_jp_data(i):\n",
    "  url = f\"https://www.niid.go.jp/niid/en/survaillance-data-table-english.html?start={i}\"\n",
    "\n",
    "  response = requests.get(url)\n",
    "  response.raise_for_status()\n",
    "\n",
    "  soup = BeautifulSoup(response.text, 'html.parser')\n",
    "\n",
    "  title = soup.find('h2').text\n",
    "  title = re.sub(r'[\\n\\t]', '', title)\n",
    "  year, week = extract_title(title)\n",
    "\n",
    "  # date info is in the first paragraph\n",
    "  date_info = soup.find('p').text\n",
    "  start_date, end_date = extract_info(date_info, year)\n",
    "\n",
    "  # get csv links\n",
    "  csv_links = []\n",
    "  for link in soup.find_all('a', href=True):\n",
    "      href = link['href']\n",
    "      if href.lower().endswith('.csv'):\n",
    "          if not href.startswith('http'):\n",
    "              href = requests.compat.urljoin(url, href)\n",
    "          csv_links.append(href)\n",
    "\n",
    "  # download the first csv file\n",
    "  for i, csv_url in enumerate(csv_links):\n",
    "    response = requests.get(csv_url)\n",
    "    response.raise_for_status()\n",
    "\n",
    "    # get file extension\n",
    "    _, file_extension = os.path.splitext(csv_url)\n",
    "\n",
    "    with open(f'JP/raw data/{i} IDWR {year} week {week}{file_extension}', 'wb') as f:\n",
    "        f.write(response.content)\n",
    "  \n",
    "  outcome = {\n",
    "      \"title\": title,\n",
    "      \"year\": year,\n",
    "      \"week\": week,\n",
    "      \"start_date\": start_date,\n",
    "      \"end_date\": end_date,\n",
    "      \"url\": url\n",
    "  }\n",
    "\n",
    "  return outcome"
   ]
  },
  {
   "cell_type": "code",
   "execution_count": 71,
   "metadata": {},
   "outputs": [
    {
     "data": {
      "text/plain": [
       "{'title': 'IDWR Surveillance Data Table 2016 week 01',\n",
       " 'year': '2016',\n",
       " 'week': '01',\n",
       " 'start_date': datetime.datetime(2016, 1, 4, 0, 0),\n",
       " 'end_date': datetime.datetime(2016, 1, 10, 0, 0),\n",
       " 'url': 'https://www.niid.go.jp/niid/en/survaillance-data-table-english.html?start=426'}"
      ]
     },
     "execution_count": 71,
     "metadata": {},
     "output_type": "execute_result"
    }
   ],
   "source": [
    "get_jp_data(426)"
   ]
  },
  {
   "cell_type": "code",
   "execution_count": 72,
   "metadata": {},
   "outputs": [],
   "source": [
    "from multiprocessing import Pool\n",
    "import multiprocessing\n",
    "\n",
    "id_range = range(1, 605, 1)\n",
    "\n",
    "num_processes = int(0.9 * multiprocessing.cpu_count())\n",
    "with Pool(processes=num_processes) as pool:\n",
    "    results = pool.map(get_jp_data, id_range)"
   ]
  },
  {
   "cell_type": "markdown",
   "metadata": {},
   "source": [
    "## Reading Data"
   ]
  },
  {
   "cell_type": "code",
   "execution_count": 53,
   "metadata": {},
   "outputs": [],
   "source": [
    "import pandas as pd\n",
    "pd.set_option('future.no_silent_downcasting', True)"
   ]
  },
  {
   "cell_type": "code",
   "execution_count": 81,
   "metadata": {},
   "outputs": [],
   "source": [
    "def clean_data(i):\n",
    "  _, year, week, _, end_date, url = results[i].values()\n",
    "  # get file name\n",
    "  if int(year) >= 2018:\n",
    "    file_name = f'JP/raw data/0 IDWR {year} week {week}.csv'\n",
    "  else:\n",
    "    file_name = f'JP/raw data/1 IDWR {year} week {week}.csv'\n",
    "\n",
    "  try:\n",
    "    df = pd.read_csv(file_name, header= None, skiprows=3)\n",
    "  except:\n",
    "    print(f\"Error reading {file_name}, i = {i}\")\n",
    "    data = {\n",
    "      \"Area\": [None],\n",
    "      \"Date\": [end_date],\n",
    "      \"Year\": [year],\n",
    "      \"Week\": [week],\n",
    "      \"Disease\": [None],\n",
    "      1: [None],\n",
    "      2: [None],\n",
    "      \"Cases\": [None],\n",
    "      \"URL\": [url]\n",
    "    }\n",
    "    df = pd.DataFrame(data)\n",
    "    return df\n",
    "\n",
    "  # find the data start row\n",
    "  for i in range(len(df)):\n",
    "    values = df.iloc[i, 1]\n",
    "    if re.match(r'^\\d+$', str(values)):\n",
    "      start_row = i\n",
    "      break\n",
    "\n",
    "  # column names\n",
    "  df_names = df.iloc[:start_row]\n",
    "  df_names = df_names.T\n",
    "  df_names = df_names.reset_index()\n",
    "  df_names['index'] = df_names['index']\n",
    "  df_names = df_names.ffill(axis=0)\n",
    "\n",
    "  # adjust the column names\n",
    "  df.columns = range(df.shape[1])\n",
    "  df = df.iloc[start_row:]\n",
    "  df = df.melt(id_vars=[0], value_vars=range(1, df.shape[1]), var_name='State', value_name='Cases')\n",
    "  df = df.rename(columns={0: 'Area'})\n",
    "\n",
    "  # merge with df_names by index and State\n",
    "  df = pd.merge(df, df_names, left_on='State', right_on='index', how='left')\n",
    "  df = df.rename(columns={0: 'Disease'})\n",
    "  # add column 2 if not present\n",
    "  if 1 not in df.columns:\n",
    "      df[1] = ''\n",
    "  if 2 not in df.columns:\n",
    "      df[2] = ''\n",
    "\n",
    "  # add Date\n",
    "  df['Date'] = end_date\n",
    "  df['Year'] = year\n",
    "  df['Week'] = week\n",
    "\n",
    "  # add URL\n",
    "  df['URL'] = url\n",
    "\n",
    "  df = df[['Area', 'Date', 'Year', 'Week', 'Disease', 1, 2,  'Cases', 'URL']]\n",
    "\n",
    "  return df"
   ]
  },
  {
   "cell_type": "code",
   "execution_count": 82,
   "metadata": {},
   "outputs": [
    {
     "data": {
      "text/plain": [
       "{'title': 'IDWR Surveillance Data Table 2016 week 01',\n",
       " 'year': '2016',\n",
       " 'week': '01',\n",
       " 'start_date': datetime.datetime(2016, 1, 4, 0, 0),\n",
       " 'end_date': datetime.datetime(2016, 1, 10, 0, 0),\n",
       " 'url': 'https://www.niid.go.jp/niid/en/survaillance-data-table-english.html?start=426'}"
      ]
     },
     "execution_count": 82,
     "metadata": {},
     "output_type": "execute_result"
    }
   ],
   "source": [
    "results[425]"
   ]
  },
  {
   "cell_type": "code",
   "execution_count": 83,
   "metadata": {},
   "outputs": [
    {
     "data": {
      "text/plain": [
       "array(['Influenza(excld. avian influenza and pandemic influenza)',\n",
       "       'Respiratory syncytial virus infection',\n",
       "       'Pharyngoconjunctival fever', 'Group A streptococcal pharyngitis',\n",
       "       'Infectious gastroenteritis', 'Chickenpox',\n",
       "       'Hand, foot and mouth disease', 'Erythema infection',\n",
       "       'Exanthem subitum', 'Pertussis', 'Herpangina', 'Mumps',\n",
       "       'Acute hemorrhagic conjunctivitis',\n",
       "       'Epidemic keratoconjunctivitis', 'Bacterial meningitis',\n",
       "       'Aseptic meningitis', 'Mycoplasma pneumonia',\n",
       "       'Chlamydial pneumonia(excluding psittacosis)',\n",
       "       'Infectious gastroenteritis (only by Rotavirus)'], dtype=object)"
      ]
     },
     "execution_count": 83,
     "metadata": {},
     "output_type": "execute_result"
    }
   ],
   "source": [
    "df = clean_data(425)\n",
    "# unique values in the Disease column\n",
    "df['Disease'].unique()"
   ]
  },
  {
   "cell_type": "code",
   "execution_count": 84,
   "metadata": {},
   "outputs": [
    {
     "name": "stdout",
     "output_type": "stream",
     "text": [
      "Error reading JP/raw data/1 IDWR 2012 week 32.csv, i = 603\n"
     ]
    },
    {
     "name": "stderr",
     "output_type": "stream",
     "text": [
      "/tmp/ipykernel_3450146/3593706733.py:10: FutureWarning: The behavior of DataFrame concatenation with empty or all-NA entries is deprecated. In a future version, this will no longer exclude empty or all-NA columns when determining the result dtypes. To retain the old behavior, exclude the relevant entries before the concat operation.\n",
      "  final_df = pd.concat(alldata, ignore_index=True)\n"
     ]
    }
   ],
   "source": [
    "from multiprocessing import Pool\n",
    "import multiprocessing\n",
    "\n",
    "id_range = range(0, len(results), 1)\n",
    "\n",
    "num_processes = int(0.9 * multiprocessing.cpu_count())\n",
    "with Pool(processes=num_processes) as pool:\n",
    "    alldata = pool.map(clean_data, id_range)\n",
    "\n",
    "final_df = pd.concat(alldata, ignore_index=True)\n",
    "\n",
    "# save to csv\n",
    "final_df.to_csv('./JP/AllData.csv', index=False)"
   ]
  },
  {
   "cell_type": "code",
   "execution_count": 85,
   "metadata": {},
   "outputs": [
    {
     "data": {
      "text/html": [
       "<div>\n",
       "<style scoped>\n",
       "    .dataframe tbody tr th:only-of-type {\n",
       "        vertical-align: middle;\n",
       "    }\n",
       "\n",
       "    .dataframe tbody tr th {\n",
       "        vertical-align: top;\n",
       "    }\n",
       "\n",
       "    .dataframe thead th {\n",
       "        text-align: right;\n",
       "    }\n",
       "</style>\n",
       "<table border=\"1\" class=\"dataframe\">\n",
       "  <thead>\n",
       "    <tr style=\"text-align: right;\">\n",
       "      <th></th>\n",
       "      <th>Area</th>\n",
       "      <th>Date</th>\n",
       "      <th>Year</th>\n",
       "      <th>Week</th>\n",
       "      <th>Disease</th>\n",
       "      <th>1</th>\n",
       "      <th>2</th>\n",
       "      <th>Cases</th>\n",
       "      <th>URL</th>\n",
       "    </tr>\n",
       "  </thead>\n",
       "  <tbody>\n",
       "    <tr>\n",
       "      <th>3208028</th>\n",
       "      <td>Oita</td>\n",
       "      <td>NaT</td>\n",
       "      <td>2012</td>\n",
       "      <td>33</td>\n",
       "      <td>Chlamydial pneumonia(excluding psittacosis)</td>\n",
       "      <td>per sentinel</td>\n",
       "      <td></td>\n",
       "      <td>-</td>\n",
       "      <td>https://www.niid.go.jp/niid/en/survaillance-da...</td>\n",
       "    </tr>\n",
       "    <tr>\n",
       "      <th>3208029</th>\n",
       "      <td>Miyazaki</td>\n",
       "      <td>NaT</td>\n",
       "      <td>2012</td>\n",
       "      <td>33</td>\n",
       "      <td>Chlamydial pneumonia(excluding psittacosis)</td>\n",
       "      <td>per sentinel</td>\n",
       "      <td></td>\n",
       "      <td>-</td>\n",
       "      <td>https://www.niid.go.jp/niid/en/survaillance-da...</td>\n",
       "    </tr>\n",
       "    <tr>\n",
       "      <th>3208030</th>\n",
       "      <td>Kagoshima</td>\n",
       "      <td>NaT</td>\n",
       "      <td>2012</td>\n",
       "      <td>33</td>\n",
       "      <td>Chlamydial pneumonia(excluding psittacosis)</td>\n",
       "      <td>per sentinel</td>\n",
       "      <td></td>\n",
       "      <td>-</td>\n",
       "      <td>https://www.niid.go.jp/niid/en/survaillance-da...</td>\n",
       "    </tr>\n",
       "    <tr>\n",
       "      <th>3208031</th>\n",
       "      <td>Okinawa</td>\n",
       "      <td>NaT</td>\n",
       "      <td>2012</td>\n",
       "      <td>33</td>\n",
       "      <td>Chlamydial pneumonia(excluding psittacosis)</td>\n",
       "      <td>per sentinel</td>\n",
       "      <td></td>\n",
       "      <td>-</td>\n",
       "      <td>https://www.niid.go.jp/niid/en/survaillance-da...</td>\n",
       "    </tr>\n",
       "    <tr>\n",
       "      <th>3208032</th>\n",
       "      <td>None</td>\n",
       "      <td>NaT</td>\n",
       "      <td>2012</td>\n",
       "      <td>32</td>\n",
       "      <td>None</td>\n",
       "      <td>None</td>\n",
       "      <td>None</td>\n",
       "      <td>None</td>\n",
       "      <td>https://www.niid.go.jp/niid/en/survaillance-da...</td>\n",
       "    </tr>\n",
       "  </tbody>\n",
       "</table>\n",
       "</div>"
      ],
      "text/plain": [
       "              Area Date  Year Week  \\\n",
       "3208028       Oita  NaT  2012   33   \n",
       "3208029   Miyazaki  NaT  2012   33   \n",
       "3208030  Kagoshima  NaT  2012   33   \n",
       "3208031    Okinawa  NaT  2012   33   \n",
       "3208032       None  NaT  2012   32   \n",
       "\n",
       "                                             Disease             1     2  \\\n",
       "3208028  Chlamydial pneumonia(excluding psittacosis)  per sentinel         \n",
       "3208029  Chlamydial pneumonia(excluding psittacosis)  per sentinel         \n",
       "3208030  Chlamydial pneumonia(excluding psittacosis)  per sentinel         \n",
       "3208031  Chlamydial pneumonia(excluding psittacosis)  per sentinel         \n",
       "3208032                                         None          None  None   \n",
       "\n",
       "        Cases                                                URL  \n",
       "3208028     -  https://www.niid.go.jp/niid/en/survaillance-da...  \n",
       "3208029     -  https://www.niid.go.jp/niid/en/survaillance-da...  \n",
       "3208030     -  https://www.niid.go.jp/niid/en/survaillance-da...  \n",
       "3208031     -  https://www.niid.go.jp/niid/en/survaillance-da...  \n",
       "3208032  None  https://www.niid.go.jp/niid/en/survaillance-da...  "
      ]
     },
     "execution_count": 85,
     "metadata": {},
     "output_type": "execute_result"
    }
   ],
   "source": [
    "# head of the data\n",
    "final_df.tail()"
   ]
  },
  {
   "cell_type": "code",
   "execution_count": 86,
   "metadata": {},
   "outputs": [],
   "source": [
    "# unique date\n",
    "yw_df = final_df[['Year', 'Week']].drop_duplicates()\n",
    "# reorder\n",
    "yw_df = yw_df.sort_values(by=['Year', 'Week'])\n",
    "# reset index\n",
    "yw_df = yw_df.reset_index(drop=True)\n",
    "yw_df['value'] = 1\n",
    "# long table to wide table\n",
    "yw_df = yw_df.pivot(index='Year', columns='Week', values='value')\n",
    "# fill na with 0\n",
    "yw_df = yw_df.fillna(0)\n",
    "# save to csv\n",
    "yw_df.to_csv('./JP/YearWeek.csv')"
   ]
  },
  {
   "cell_type": "code",
   "execution_count": 91,
   "metadata": {},
   "outputs": [],
   "source": [
    "# Drop Disease is NA /Nan\n",
    "pertussis_df = final_df.dropna(subset=['Disease'])\n",
    "# Filter Disease contains pertussis\n",
    "pertussis_df = pertussis_df[pertussis_df['Disease'].str.contains('Pertussis', case=False)]\n",
    "pertussis_df = pertussis_df[pertussis_df[1].str.contains('Current', case=False)]\n",
    "# filter Area is in Total\n",
    "pertussis_df = pertussis_df[pertussis_df['Area'].isin(['Total No.'])]\n",
    "# filter Year > 2013\n",
    "pertussis_df['Year'] = pertussis_df['Year'].astype(int)\n",
    "pertussis_df = pertussis_df[pertussis_df['Year'] >= 2015]\n",
    "\n",
    "# Arrange by Year and Week\n",
    "pertussis_df = pertussis_df.sort_values(by=['Year', 'Week'])\n",
    "# save to csv\n",
    "pertussis_df.to_csv('./JP/pertussis.csv', index=False)"
   ]
  }
 ],
 "metadata": {
  "kernelspec": {
   "display_name": "nid_data",
   "language": "python",
   "name": "python3"
  },
  "language_info": {
   "codemirror_mode": {
    "name": "ipython",
    "version": 3
   },
   "file_extension": ".py",
   "mimetype": "text/x-python",
   "name": "python",
   "nbconvert_exporter": "python",
   "pygments_lexer": "ipython3",
   "version": "3.10.13"
  }
 },
 "nbformat": 4,
 "nbformat_minor": 2
}
