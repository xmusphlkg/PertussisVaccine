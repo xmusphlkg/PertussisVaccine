{
 "cells": [
  {
   "cell_type": "code",
   "execution_count": 16,
   "metadata": {},
   "outputs": [],
   "source": [
    "import pandas as pd"
   ]
  },
  {
   "cell_type": "code",
   "execution_count": 17,
   "metadata": {},
   "outputs": [],
   "source": [
    "def read_single(file_name, country, frequency):\n",
    "    df = pd.read_csv(file_name, sep=',', header=0)\n",
    "    df['Date'] = pd.to_datetime(df['Date'])\n",
    "    if frequency == 'Week':\n",
    "        df['Month'] = None\n",
    "        df['Frequency'] = 'Week'\n",
    "    if frequency == 'Month':\n",
    "        df['Week'] = None\n",
    "        df['Frequency'] = 'Month'\n",
    "    \n",
    "    df = df[['Date', 'Year', 'Month', 'Week', 'Disease', 'Cases', 'URL']]\n",
    "    df['Country'] = country\n",
    "\n",
    "    return df"
   ]
  },
  {
   "cell_type": "code",
   "execution_count": 18,
   "metadata": {},
   "outputs": [],
   "source": [
    "# read all country\n",
    "df_cn = read_single('../CleanData/CN/pertussis.csv', 'CN', 'Month')\n",
    "df_us = read_single('../CleanData/US/pertussis.csv', 'US', 'Week')\n",
    "df_jp = read_single('../CleanData/JP/pertussis.csv', 'JP', 'Week')\n",
    "df_au = read_single('../CleanData/AU/pertussis.csv', 'AU', 'Week')\n",
    "df_uk = read_single('../CleanData/UK/pertussis.csv', 'UK', 'Week')\n",
    "\n",
    "# row bind and save\n",
    "df = pd.concat([df_cn, df_us, df_jp, df_au, df_uk])\n",
    "df.to_csv('../CleanData/report_pertussis.csv', index=False)"
   ]
  }
 ],
 "metadata": {
  "kernelspec": {
   "display_name": "nid_data",
   "language": "python",
   "name": "python3"
  },
  "language_info": {
   "codemirror_mode": {
    "name": "ipython",
    "version": 3
   },
   "file_extension": ".py",
   "mimetype": "text/x-python",
   "name": "python",
   "nbconvert_exporter": "python",
   "pygments_lexer": "ipython3",
   "version": "3.10.13"
  }
 },
 "nbformat": 4,
 "nbformat_minor": 2
}
